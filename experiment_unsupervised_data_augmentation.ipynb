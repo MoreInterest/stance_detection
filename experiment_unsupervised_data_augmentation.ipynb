{
 "cells": [
  {
   "cell_type": "markdown",
   "metadata": {},
   "source": [
    "# Stance Detection with Unsupervised Data Augmentation\n",
    "In this notebook, Unsupervised Data Augmentation (Xie Q. et al., 2019) is applied to stance detection. Overall, a classifier is fed labelled examples and unlabelled examples along with their modified clones as generated through data augmentations. The objective is to minimise the cross-entropy loss for the labelled examples and the divergence between the distributions for the original and modified unlabelled examples."
   ]
  },
  {
   "cell_type": "code",
   "execution_count": 6,
   "metadata": {},
   "outputs": [],
   "source": [
    "import torch\n",
    "import pickle"
   ]
  },
  {
   "cell_type": "code",
   "execution_count": 161,
   "metadata": {},
   "outputs": [],
   "source": [
    "from datasets import SemEval, SemEvalSeenUnlabelled\n",
    "from torch import nn, optim\n",
    "from bert import encode\n",
    "from matplotlib import pyplot as plt\n",
    "from copy import deepcopy\n",
    "from sklearn.metrics import precision_recall_fscore_support, f1_score, classification_report\n",
    "import numpy as np\n",
    "from math import ceil\n",
    "from utils import get_batch, plot_confusion_matrix\n",
    "from warnings import filterwarnings"
   ]
  },
  {
   "cell_type": "code",
   "execution_count": 126,
   "metadata": {},
   "outputs": [],
   "source": [
    "filterwarnings(\"ignore\")"
   ]
  },
  {
   "cell_type": "markdown",
   "metadata": {},
   "source": [
    "## Utilities and Model Implementation"
   ]
  },
  {
   "cell_type": "code",
   "execution_count": 12,
   "metadata": {},
   "outputs": [],
   "source": [
    "def tokenise(text):\n",
    "    return text.split()"
   ]
  },
  {
   "cell_type": "code",
   "execution_count": 13,
   "metadata": {},
   "outputs": [],
   "source": [
    "def join(tokens):\n",
    "    return \" \".join(tokens)"
   ]
  },
  {
   "cell_type": "code",
   "execution_count": 14,
   "metadata": {},
   "outputs": [],
   "source": [
    "def swap(text, p):\n",
    "    tokens = tokenise(text)\n",
    "    for i, token in enumerate(tokens):\n",
    "        if np.random.rand() < p:\n",
    "            j = np.random.randint(len(tokens))\n",
    "            tokens[i], tokens[j] = tokens[j], tokens[i]\n",
    "    return join(tokens)"
   ]
  },
  {
   "cell_type": "code",
   "execution_count": 15,
   "metadata": {},
   "outputs": [],
   "source": [
    "def delete(text, p):\n",
    "    tokens = []\n",
    "    for token in tokenise(text):\n",
    "        if np.random.rand() > p or (token.startswith(\"#\") or token.startswith(\"@\")):\n",
    "            tokens.append(token)\n",
    "    return join(tokens)"
   ]
  },
  {
   "cell_type": "code",
   "execution_count": 16,
   "metadata": {},
   "outputs": [],
   "source": [
    "def _modify(text, swap_p, delete_p):\n",
    "    return swap(delete(text, delete_p), swap_p)"
   ]
  },
  {
   "cell_type": "code",
   "execution_count": 17,
   "metadata": {},
   "outputs": [],
   "source": [
    "def modify(texts, swap_p, delete_p):\n",
    "    return [_modify(text, swap_p, delete_p) for text in texts]"
   ]
  },
  {
   "cell_type": "code",
   "execution_count": 18,
   "metadata": {},
   "outputs": [],
   "source": [
    "def augment(texts, targets, n, swap_p, delete_p):\n",
    "    pairs = []\n",
    "    for _ in range(n):\n",
    "        for text, target in zip(texts, targets):\n",
    "            pairs.append((_modify(text, swap_p, delete_p), text, target))\n",
    "    return pairs"
   ]
  },
  {
   "cell_type": "code",
   "execution_count": 84,
   "metadata": {},
   "outputs": [],
   "source": [
    "class Model(nn.Module):\n",
    "    \n",
    "    def __init__(self):\n",
    "        super().__init__()\n",
    "        self.classifier = nn.Sequential(nn.Linear(768, 64), nn.ReLU(), nn.Linear(64, 3), nn.Softmax(dim=1))\n",
    "        self.cross_entropy_loss_function = nn.CrossEntropyLoss()\n",
    "        self.kl_div_loss_function = nn.KLDivLoss(reduction=\"batchmean\")\n",
    "        \n",
    "    def forward(self, inputs, labels, original, modified):\n",
    "        probabilities = self.classifier(inputs)\n",
    "        cross_entropy = self.cross_entropy_loss_function(probabilities, labels)\n",
    "        original_probabilities = self.classifier(original)\n",
    "        modified_probabilities = self.classifier(modified)\n",
    "        kl_div = self.kl_div_loss_function(torch.log(modified_probabilities), original_probabilities)\n",
    "        objectives = (cross_entropy, kl_div)\n",
    "        return probabilities, torch.argmax(probabilities, 1), (sum(objectives), objectives)"
   ]
  },
  {
   "cell_type": "code",
   "execution_count": 85,
   "metadata": {},
   "outputs": [],
   "source": [
    "def get_model(state_dict=None):\n",
    "    torch.manual_seed(42)\n",
    "    model = Model().cuda()\n",
    "    if state_dict is not None:\n",
    "        model.load_state_dict(state_dict)\n",
    "    return model"
   ]
  },
  {
   "cell_type": "markdown",
   "metadata": {},
   "source": [
    "## Training"
   ]
  },
  {
   "cell_type": "code",
   "execution_count": 93,
   "metadata": {},
   "outputs": [],
   "source": [
    "training, testing = SemEval.get_subtask_a_datasets(\"data/semeval/\")"
   ]
  },
  {
   "cell_type": "code",
   "execution_count": 94,
   "metadata": {},
   "outputs": [],
   "source": [
    "maximum_length = 77"
   ]
  },
  {
   "cell_type": "code",
   "execution_count": 95,
   "metadata": {},
   "outputs": [],
   "source": [
    "training_inputs = encode(training.texts, training.targets, method=\"conditional-target\", maximum_length=maximum_length).cuda(), torch.tensor(training.stances).cuda()\n",
    "testing_inputs = encode(testing.texts, testing.targets, method=\"conditional-target\", maximum_length=maximum_length).cuda(), torch.tensor(testing.stances).cuda()"
   ]
  },
  {
   "cell_type": "code",
   "execution_count": 96,
   "metadata": {},
   "outputs": [],
   "source": [
    "unlabelled = SemEvalSeenUnlabelled(\"data/semeval/subtask_a_unlabelled.json\")"
   ]
  },
  {
   "cell_type": "code",
   "execution_count": 97,
   "metadata": {},
   "outputs": [],
   "source": [
    "pairs = augment(unlabelled.texts, unlabelled.targets, 1, 0.1, 0.2)"
   ]
  },
  {
   "cell_type": "code",
   "execution_count": 158,
   "metadata": {},
   "outputs": [],
   "source": [
    "original_inputs = encode([z[0] for z in pairs], [z[2] for z in pairs], method=\"conditional-target\", maximum_length=maximum_length).cuda(),\n",
    "modified_inputs = encode([z[1] for z in pairs], [z[2] for z in pairs], method=\"conditional-target\", maximum_length=maximum_length).cuda(),"
   ]
  },
  {
   "cell_type": "code",
   "execution_count": 99,
   "metadata": {},
   "outputs": [
    {
     "data": {
      "text/plain": [
       "(61, 2)"
      ]
     },
     "execution_count": 99,
     "metadata": {},
     "output_type": "execute_result"
    }
   ],
   "source": [
    "batch_size, unlabelled_batch_size = 48, 48\n",
    "batches, unlabelled_batches = ceil(len(training) / batch_size), ceil(len(unlabelled) / unlabelled_batch_size)\n",
    "batches, unlabelled_batches"
   ]
  },
  {
   "cell_type": "code",
   "execution_count": 149,
   "metadata": {},
   "outputs": [],
   "source": [
    "model = get_model()"
   ]
  },
  {
   "cell_type": "code",
   "execution_count": 150,
   "metadata": {},
   "outputs": [],
   "source": [
    "optimiser = optim.Adam(model.parameters(), lr=1e-4)"
   ]
  },
  {
   "cell_type": "code",
   "execution_count": 151,
   "metadata": {},
   "outputs": [],
   "source": [
    "step = 0"
   ]
  },
  {
   "cell_type": "code",
   "execution_count": 152,
   "metadata": {},
   "outputs": [],
   "source": [
    "optimal_score, optimal_model_state_dict = 0.0, None"
   ]
  },
  {
   "cell_type": "code",
   "execution_count": 153,
   "metadata": {},
   "outputs": [],
   "source": [
    "results = {\n",
    "    \"training\": {\n",
    "        \"cross_entropy_loss\": [],\n",
    "        \"kl_divergence_loss\": [],\n",
    "        \"f_1_2\": [],\n",
    "        \"f_1_3\": []\n",
    "    },\n",
    "    \"testing\": {\n",
    "        \"cross_entropy_loss\": [],\n",
    "        \"kl_divergence_loss\": [],\n",
    "        \"f_1_2\": [],\n",
    "        \"f_1_3\": []\n",
    "    },\n",
    "}"
   ]
  },
  {
   "cell_type": "code",
   "execution_count": null,
   "metadata": {},
   "outputs": [],
   "source": [
    "while True:\n",
    "    \n",
    "    optimiser.zero_grad()\n",
    "    model.zero_grad()\n",
    "    \n",
    "    labelled_batch = get_batch(step, batch_size, training_inputs)\n",
    "    original_batch = get_batch(step, unlabelled_batch_size, original_inputs)\n",
    "    modified_batch = get_batch(step, unlabelled_batch_size, modified_inputs)\n",
    "    \n",
    "    _, predictions, (loss, (cross_entropy_loss, kl_divergence_loss)) = model(*labelled_batch, *original_batch, *modified_batch)\n",
    "    loss.backward()\n",
    "    optimiser.step()\n",
    "    \n",
    "    results[\"training\"][\"cross_entropy_loss\"].append(float(cross_entropy_loss))\n",
    "    results[\"training\"][\"kl_divergence_loss\"].append(float(kl_divergence_loss))\n",
    "    \n",
    "    scores = f1_score(labelled_batch[1].cpu(), predictions.cpu(), average=None)\n",
    "    scores = (np.mean(scores[1:]), np.mean(scores[:]))\n",
    "    \n",
    "    results[\"training\"][\"f_1_2\"].append(scores[0])\n",
    "    results[\"training\"][\"f_1_3\"].append(scores[1])\n",
    "    \n",
    "    _, predictions, (_, (cross_entropy_loss, kl_divergence_loss)) = model(*testing_inputs, *original_batch, *modified_batch)\n",
    "    \n",
    "    results[\"testing\"][\"cross_entropy_loss\"].append(float(cross_entropy_loss))\n",
    "    results[\"testing\"][\"kl_divergence_loss\"].append(float(kl_divergence_loss))\n",
    "    \n",
    "    scores = f1_score(testing.stances, predictions.cpu(), average=None)\n",
    "    scores = (np.mean(scores[1:]), np.mean(scores[:]))\n",
    "    \n",
    "    results[\"testing\"][\"f_1_2\"].append(scores[0])\n",
    "    results[\"testing\"][\"f_1_3\"].append(scores[1])\n",
    "    \n",
    "    score = np.mean(scores)\n",
    "    \n",
    "    if score > optimal_score:\n",
    "        optimal_score = score\n",
    "        optimal_model_state_dict = deepcopy(model.state_dict())\n",
    "        print(\"{}\\t{}\\t{}\\t{}\".format(step, *scores, score))\n",
    "\n",
    "    step += 1"
   ]
  },
  {
   "cell_type": "code",
   "execution_count": 155,
   "metadata": {},
   "outputs": [
    {
     "data": {
      "text/plain": [
       "<matplotlib.legend.Legend at 0x7f27932ec1d0>"
      ]
     },
     "execution_count": 155,
     "metadata": {},
     "output_type": "execute_result"
    },
    {
     "data": {
      "image/png": "[encoded data removed]",
      "text/plain": [
       "<Figure size 1440x504 with 3 Axes>"
      ]
     },
     "metadata": {},
     "output_type": "display_data"
    }
   ],
   "source": [
    "plt.figure(figsize=(20, 7))\n",
    "plt.style.use(\"seaborn\")\n",
    "\n",
    "plt.subplot(1, 3, 1)\n",
    "plt.plot(results[\"training\"][\"cross_entropy_loss\"][::batches])\n",
    "plt.plot(results[\"testing\"][\"cross_entropy_loss\"][::batches])\n",
    "plt.xlabel(\"Epoch\")\n",
    "plt.legend([\"Training\", \"Testing\"])\n",
    "\n",
    "plt.subplot(1, 3, 2)\n",
    "plt.plot(results[\"training\"][\"kl_divergence_loss\"][::(batches * unlabelled_batches)])\n",
    "\n",
    "plt.subplot(1, 3, 3)\n",
    "plt.plot(results[\"training\"][\"f_1_2\"][::batches])\n",
    "plt.plot(results[\"testing\"][\"f_1_3\"][::batches])\n",
    "plt.legend([\"Training\", \"Testing\"])"
   ]
  },
  {
   "cell_type": "markdown",
   "metadata": {},
   "source": [
    "## Evaluation"
   ]
  },
  {
   "cell_type": "code",
   "execution_count": 159,
   "metadata": {},
   "outputs": [],
   "source": [
    "model = get_model(optimal_model_state_dict)"
   ]
  },
  {
   "cell_type": "code",
   "execution_count": 160,
   "metadata": {},
   "outputs": [],
   "source": [
    "_, predictions, _ = model(*testing_inputs, *original_inputs, *modified_inputs)"
   ]
  },
  {
   "cell_type": "code",
   "execution_count": 162,
   "metadata": {},
   "outputs": [
    {
     "name": "stdout",
     "output_type": "stream",
     "text": [
      "              precision    recall  f1-score   support\n",
      "\n",
      "           0       0.53      0.62      0.57       230\n",
      "           1       0.76      0.46      0.58       304\n",
      "           2       0.72      0.80      0.76       715\n",
      "\n",
      "    accuracy                           0.69      1249\n",
      "   macro avg       0.67      0.63      0.63      1249\n",
      "weighted avg       0.70      0.69      0.68      1249\n",
      "\n"
     ]
    }
   ],
   "source": [
    "print(classification_report(testing.stances, predictions.cpu()))"
   ]
  },
  {
   "cell_type": "code",
   "execution_count": 163,
   "metadata": {},
   "outputs": [
    {
     "data": {
      "text/plain": [
       "<matplotlib.axes._subplots.AxesSubplot at 0x7f2792f679e8>"
      ]
     },
     "execution_count": 163,
     "metadata": {},
     "output_type": "execute_result"
    },
    {
     "data": {
      "image/png": "[encoded data removed]",
      "text/plain": [
       "<Figure size 576x396 with 2 Axes>"
      ]
     },
     "metadata": {},
     "output_type": "display_data"
    }
   ],
   "source": [
    "plot_confusion_matrix(testing.stances, predictions.cpu())"
   ]
  }
 ],
 "metadata": {
  "kernelspec": {
   "display_name": "Python 3",
   "language": "python",
   "name": "python3"
  },
  "language_info": {
   "codemirror_mode": {
    "name": "ipython",
    "version": 3
   },
   "file_extension": ".py",
   "mimetype": "text/x-python",
   "name": "python",
   "nbconvert_exporter": "python",
   "pygments_lexer": "ipython3",
   "version": "3.6.5"
  }
 },
 "nbformat": 4,
 "nbformat_minor": 2
}
