{
 "cells": [
  {
   "cell_type": "code",
   "execution_count": 1,
   "metadata": {},
   "outputs": [],
   "source": [
    "import torch\n",
    "import numpy as np"
   ]
  },
  {
   "cell_type": "code",
   "execution_count": 2,
   "metadata": {},
   "outputs": [],
   "source": [
    "from datasets import SemEval\n",
    "from torch import nn, optim\n",
    "from bert import encode\n",
    "from matplotlib import pyplot as plt\n",
    "from copy import deepcopy\n",
    "from sklearn.metrics import f1_score, classification_report\n",
    "from math import ceil\n",
    "from warnings import filterwarnings\n",
    "from utils import plot_confusion_matrix"
   ]
  },
  {
   "cell_type": "code",
   "execution_count": 3,
   "metadata": {},
   "outputs": [],
   "source": [
    "filterwarnings(\"ignore\")"
   ]
  },
  {
   "cell_type": "code",
   "execution_count": 4,
   "metadata": {},
   "outputs": [],
   "source": [
    "class Model(nn.Module):\n",
    "    \n",
    "    def __init__(self, input_size, intermediate_size, target_size):\n",
    "        super().__init__()\n",
    "        self.classifier = nn.Sequential(\n",
    "            nn.Linear(input_size, intermediate_size),\n",
    "            nn.ReLU(),\n",
    "            nn.Linear(intermediate_size, target_size),\n",
    "            nn.Softmax(dim=1)\n",
    "        )\n",
    "        self.cross_entropy = nn.CrossEntropyLoss()\n",
    "        \n",
    "    def forward(self, inputs, labels=None):\n",
    "        probabilities = self.classifier(inputs)\n",
    "        return probabilities, torch.argmax(probabilities, 1), self.cross_entropy(probabilities, labels) if labels is not None else None"
   ]
  },
  {
   "cell_type": "code",
   "execution_count": 5,
   "metadata": {},
   "outputs": [],
   "source": [
    "def get_model(state_dict=None):\n",
    "    torch.manual_seed(42)\n",
    "    model = Model(768, 64, 3).cuda()\n",
    "    if state_dict is not None:\n",
    "        model.load_state_dict(state_dict)\n",
    "    return model"
   ]
  },
  {
   "cell_type": "code",
   "execution_count": 6,
   "metadata": {},
   "outputs": [],
   "source": [
    "def get_batch(step, batch_size, z):\n",
    "    batches = ceil(len(z[0]) / batch_size)\n",
    "    i = step % batches\n",
    "    start, end = i * batch_size, min((i + 1) * batch_size, len(z[0]))\n",
    "    return [a[start:end].cuda() for a in z]"
   ]
  },
  {
   "cell_type": "code",
   "execution_count": 7,
   "metadata": {},
   "outputs": [],
   "source": [
    "training, testing = SemEval.get_subtask_a_datasets(\"data/semeval/\")"
   ]
  },
  {
   "cell_type": "code",
   "execution_count": null,
   "metadata": {},
   "outputs": [],
   "source": [
    "training_inputs = encode(training.texts, training.targets, method=\"conditional-target\", maximum_length=80).cuda(), torch.tensor(training.stances).cuda()\n",
    "testing_inputs  = encode(testing.texts,  testing.targets,  method=\"conditional-target\", maximum_length=80).cuda(), torch.tensor(testing.stances ).cuda()"
   ]
  },
  {
   "cell_type": "code",
   "execution_count": null,
   "metadata": {},
   "outputs": [],
   "source": [
    "model = get_model()\n",
    "batch_size = 48\n",
    "optimiser = optim.Adam(model.parameters(), lr=1e-4)\n",
    "step, steps_since, early_stopping = 0, 0, 1000\n",
    "evaluation_function = lambda true, predicted: f1_score(true, predicted, average=\"macro\")"
   ]
  },
  {
   "cell_type": "code",
   "execution_count": null,
   "metadata": {},
   "outputs": [],
   "source": [
    "optimal_score, optimal_model_state_dict = 0., None"
   ]
  },
  {
   "cell_type": "code",
   "execution_count": null,
   "metadata": {},
   "outputs": [],
   "source": [
    "training_loss, testing_loss = [], []"
   ]
  },
  {
   "cell_type": "code",
   "execution_count": null,
   "metadata": {},
   "outputs": [],
   "source": [
    "while steps_since < early_stopping:\n",
    "\n",
    "    model.zero_grad()\n",
    "    optimiser.zero_grad()\n",
    "    model.train()\n",
    "\n",
    "    inputs = get_batch(step, batch_size, training_inputs)\n",
    "    _, _, loss = model(*inputs)\n",
    "    training_loss.append(float(loss))\n",
    "\n",
    "    loss.backward()\n",
    "    optimiser.step()\n",
    "\n",
    "    model.eval()\n",
    "\n",
    "    _, predictions, loss = model(*testing_inputs)\n",
    "    score = evaluation_function(testing.stances, predictions.cpu())\n",
    "    testing_loss.append(float(loss))\n",
    "    \n",
    "    if score > optimal_score:\n",
    "        optimal_score = score\n",
    "        optimal_model_state_dict = deepcopy(model.state_dict())\n",
    "        steps_since = 0\n",
    "    else:\n",
    "        steps_since += 1\n",
    "\n",
    "    step += 1"
   ]
  },
  {
   "cell_type": "code",
   "execution_count": 32,
   "metadata": {},
   "outputs": [
    {
     "data": {
      "image/png": "[encoded data removed]",
      "text/plain": [
       "<Figure size 720x504 with 1 Axes>"
      ]
     },
     "metadata": {},
     "output_type": "display_data"
    }
   ],
   "source": [
    "plt.style.use(\"seaborn\")\n",
    "plt.figure(figsize=(10, 7))\n",
    "plt.plot(training_loss[::ceil(len(training) / batch_size)])\n",
    "plt.plot(testing_loss[::ceil(len(training) / batch_size)])\n",
    "plt.legend([\"Training\", \"Testing\"])\n",
    "plt.xlabel(\"Epoch\")\n",
    "plt.ylabel(\"Cross-entropy Loss\")\n",
    "pass"
   ]
  },
  {
   "cell_type": "code",
   "execution_count": 33,
   "metadata": {},
   "outputs": [
    {
     "data": {
      "text/plain": [
       "Model(\n",
       "  (classifier): Sequential(\n",
       "    (0): Linear(in_features=768, out_features=64, bias=True)\n",
       "    (1): ReLU()\n",
       "    (2): Linear(in_features=64, out_features=3, bias=True)\n",
       "    (3): Softmax()\n",
       "  )\n",
       "  (cross_entropy): CrossEntropyLoss()\n",
       ")"
      ]
     },
     "execution_count": 33,
     "metadata": {},
     "output_type": "execute_result"
    }
   ],
   "source": [
    "model = get_model(state_dict=optimal_model_state_dict)\n",
    "model.eval()"
   ]
  },
  {
   "cell_type": "code",
   "execution_count": 35,
   "metadata": {},
   "outputs": [],
   "source": [
    "_, predictions, _ = model(*testing_inputs)"
   ]
  },
  {
   "cell_type": "code",
   "execution_count": 37,
   "metadata": {},
   "outputs": [
    {
     "name": "stdout",
     "output_type": "stream",
     "text": [
      "              precision    recall  f1-score   support\n",
      "\n",
      "           0       0.52      0.66      0.58       230\n",
      "           1       0.75      0.45      0.56       304\n",
      "           2       0.72      0.78      0.75       715\n",
      "\n",
      "    accuracy                           0.68      1249\n",
      "   macro avg       0.66      0.63      0.63      1249\n",
      "weighted avg       0.69      0.68      0.67      1249\n",
      "\n"
     ]
    }
   ],
   "source": [
    "print(classification_report(testing.stances, predictions.cpu()))"
   ]
  },
  {
   "cell_type": "code",
   "execution_count": 42,
   "metadata": {},
   "outputs": [
    {
     "data": {
      "text/plain": [
       "<matplotlib.axes._subplots.AxesSubplot at 0x7f078e0b93c8>"
      ]
     },
     "execution_count": 42,
     "metadata": {},
     "output_type": "execute_result"
    },
    {
     "data": {
      "image/png": "[encoded data removed]",
      "text/plain": [
       "<Figure size 576x396 with 2 Axes>"
      ]
     },
     "metadata": {},
     "output_type": "display_data"
    }
   ],
   "source": [
    "plot_confusion_matrix(testing.stances, predictions.cpu())"
   ]
  }
 ],
 "metadata": {
  "kernelspec": {
   "display_name": "Python 3",
   "language": "python",
   "name": "python3"
  },
  "language_info": {
   "codemirror_mode": {
    "name": "ipython",
    "version": 3
   },
   "file_extension": ".py",
   "mimetype": "text/x-python",
   "name": "python",
   "nbconvert_exporter": "python",
   "pygments_lexer": "ipython3",
   "version": "3.6.5"
  }
 },
 "nbformat": 4,
 "nbformat_minor": 2
}
