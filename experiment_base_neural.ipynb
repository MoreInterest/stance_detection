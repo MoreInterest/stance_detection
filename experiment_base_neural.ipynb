{
 "cells": [
  {
   "cell_type": "markdown",
   "metadata": {},
   "source": [
    "# Using Base Neural Architectures"
   ]
  },
  {
   "cell_type": "markdown",
   "metadata": {},
   "source": [
    "In this notebook, the task of stance detection is tackled through neural architectures in a fully supervised way, without adoption of any pre-trained model."
   ]
  },
  {
   "cell_type": "markdown",
   "metadata": {},
   "source": [
    "## Imports and Setup"
   ]
  },
  {
   "cell_type": "code",
   "execution_count": 1,
   "metadata": {},
   "outputs": [],
   "source": [
    "import torch"
   ]
  },
  {
   "cell_type": "code",
   "execution_count": 30,
   "metadata": {},
   "outputs": [],
   "source": [
    "from datasets import SemEval\n",
    "from torch import nn, optim\n",
    "from matplotlib import pyplot as plt\n",
    "from copy import deepcopy\n",
    "from sklearn.metrics import precision_recall_fscore_support, f1_score, classification_report\n",
    "import numpy as np\n",
    "from math import ceil\n",
    "from warnings import filterwarnings\n",
    "from utils import get_batch, plot_confusion_matrix"
   ]
  },
  {
   "cell_type": "code",
   "execution_count": 4,
   "metadata": {},
   "outputs": [],
   "source": [
    "filterwarnings(\"ignore\")"
   ]
  },
  {
   "cell_type": "markdown",
   "metadata": {},
   "source": [
    "The following cells contains functionalities used for the pre-processing and vectorisation of text into numeric form; used as inputs to the networks."
   ]
  },
  {
   "cell_type": "code",
   "execution_count": 5,
   "metadata": {},
   "outputs": [],
   "source": [
    "def tokenise(text):        \n",
    "    return text.lower().split()"
   ]
  },
  {
   "cell_type": "code",
   "execution_count": 6,
   "metadata": {},
   "outputs": [],
   "source": [
    "def get_vocabulary(texts):\n",
    "    vocabulary = {\n",
    "        \"[PAD]\": 0,\n",
    "        \"[UNK]\": 1,\n",
    "        \"[SEP]\": 2,\n",
    "        \"[SOS]\": 3,\n",
    "        \"[EOS]\": 4,\n",
    "    }\n",
    "    for text in texts:\n",
    "        for token in tokenise(text):\n",
    "            if token not in vocabulary:\n",
    "                vocabulary[token] = len(vocabulary)\n",
    "    return vocabulary"
   ]
  },
  {
   "cell_type": "code",
   "execution_count": 7,
   "metadata": {},
   "outputs": [],
   "source": [
    "def _vectorise(text, vocabulary):\n",
    "    return [vocabulary[token] if token in vocabulary else vocabulary[\"[UNK]\"] for token in tokenise(text)]"
   ]
  },
  {
   "cell_type": "code",
   "execution_count": 8,
   "metadata": {},
   "outputs": [],
   "source": [
    "def vectorise(texts, vocabulary):\n",
    "    return [_vectorise(text, vocabulary) for text in texts]"
   ]
  },
  {
   "cell_type": "code",
   "execution_count": 9,
   "metadata": {},
   "outputs": [],
   "source": [
    "def tensorise(texts, vocabulary, maximum_length=None):\n",
    "    vectors = vectorise(texts, vocabulary)\n",
    "    maximum_length = max(max([len(vector) for vector in vectors]), maximum_length if maximum_length else 0)\n",
    "    _vectors = []\n",
    "    for vector in vectors:\n",
    "        v = vector[:maximum_length] + [vocabulary[\"[PAD]\"]] * (maximum_length - len(vector))\n",
    "        _vectors.append(v)\n",
    "    return torch.tensor(_vectors).cuda()"
   ]
  },
  {
   "cell_type": "code",
   "execution_count": 39,
   "metadata": {},
   "outputs": [],
   "source": [
    "class TRNN(nn.Module):\n",
    "    \n",
    "    def __init__(self, embedding_size, vocabulary_size):\n",
    "        super().__init__()\n",
    "        self.embedding = nn.Embedding(vocabulary_size, embedding_size)\n",
    "        self.text_rnn = nn.LSTM(embedding_size, embedding_size, batch_first=True)\n",
    "        self.classifier = nn.Sequential(nn.Linear(embedding_size, 3), nn.Softmax(dim=1))\n",
    "        \n",
    "    def forward(self, texts, labels):\n",
    "        _, (hidden_state, _) = self.text_rnn(self.embedding(texts))\n",
    "        hidden_state = hidden_state.transpose(0, 1).reshape(texts.shape[0], -1)\n",
    "        probabilities = self.classifier(hidden_state)\n",
    "        cross_entropy_loss = nn.CrossEntropyLoss()\n",
    "        loss = cross_entropy_loss(probabilities, labels)\n",
    "        return probabilities, torch.argmax(probabilities, 1), loss"
   ]
  },
  {
   "cell_type": "code",
   "execution_count": 40,
   "metadata": {},
   "outputs": [],
   "source": [
    "class TTRNN(nn.Module):\n",
    "    \n",
    "    def __init__(self, embedding_size, vocabulary_size):\n",
    "        super().__init__()\n",
    "        self.embedding = nn.Embedding(vocabulary_size, embedding_size)\n",
    "        self.text_rnn = nn.LSTM(embedding_size, embedding_size, batch_first=True)\n",
    "        self.target_rnn = nn.LSTM(embedding_size, embedding_size, batch_first=True)\n",
    "        self.classifier = nn.Sequential(nn.Linear(embedding_size, 3), nn.Softmax(dim=1))\n",
    "        \n",
    "    def forward(self, texts, targets, labels):\n",
    "        _, (hidden_state, cell_state) = self.target_rnn(self.embedding(targets))\n",
    "        _, (hidden_state, _) = self.text_rnn(self.embedding(texts), (torch.zeros_like(hidden_state), cell_state))\n",
    "        hidden_state = hidden_state.squeeze()\n",
    "        probabilities = self.classifier(hidden_state)\n",
    "        cross_entropy_loss = nn.CrossEntropyLoss()\n",
    "        loss = cross_entropy_loss(probabilities, labels)\n",
    "        return probabilities, torch.argmax(probabilities, 1), loss"
   ]
  },
  {
   "cell_type": "code",
   "execution_count": 41,
   "metadata": {},
   "outputs": [],
   "source": [
    "class TBRNN(nn.Module):\n",
    "    \n",
    "    def __init__(self, embedding_size, vocabulary_size):\n",
    "        super().__init__()\n",
    "        self.embedding = nn.Embedding(vocabulary_size, embedding_size)\n",
    "        self.text_rnn = nn.LSTM(embedding_size, embedding_size, batch_first=True, bidirectional=True)\n",
    "        self.classifier = nn.Sequential(nn.Linear(embedding_size * 2, 3), nn.Softmax(dim=1))\n",
    "        \n",
    "    def forward(self, texts, labels):\n",
    "        _, (hidden_state, _) = self.text_rnn(self.embedding(texts))\n",
    "        hidden_state = hidden_state.transpose(0, 1).reshape(texts.shape[0], -1)\n",
    "        probabilities = self.classifier(hidden_state)\n",
    "        cross_entropy_loss = nn.CrossEntropyLoss()\n",
    "        loss = cross_entropy_loss(probabilities, labels)\n",
    "        return probabilities, torch.argmax(probabilities, 1), loss"
   ]
  },
  {
   "cell_type": "code",
   "execution_count": 42,
   "metadata": {},
   "outputs": [],
   "source": [
    "class TTBRNN(nn.Module):\n",
    "    \n",
    "    def __init__(self, embedding_size, vocabulary_size):\n",
    "        super().__init__()\n",
    "        self.embedding = nn.Embedding(vocabulary_size, embedding_size)\n",
    "        self.text_rnn = nn.LSTM(embedding_size, embedding_size, batch_first=True, bidirectional=True)\n",
    "        self.target_rnn = nn.LSTM(embedding_size, embedding_size, batch_first=True, bidirectional=True)\n",
    "        self.classifier = nn.Sequential(nn.Linear(embedding_size * 2, 3), nn.Softmax(dim=1))\n",
    "        \n",
    "    def forward(self, texts, targets, labels):\n",
    "        _, (hidden_state, cell_state) = self.target_rnn(self.embedding(targets))\n",
    "        _, (hidden_state, _) = self.text_rnn(self.embedding(texts), (torch.zeros_like(hidden_state), cell_state))\n",
    "        hidden_state = hidden_state.transpose(0, 1).reshape(texts.shape[0], -1)\n",
    "        probabilities = self.classifier(hidden_state)\n",
    "        cross_entropy_loss = nn.CrossEntropyLoss()\n",
    "        loss = cross_entropy_loss(probabilities, labels)\n",
    "        return probabilities, torch.argmax(probabilities, 1), loss"
   ]
  },
  {
   "cell_type": "code",
   "execution_count": 277,
   "metadata": {},
   "outputs": [],
   "source": [
    "class TCNN(nn.Module):\n",
    "    \n",
    "    def __init__(self, embedding_size, vocabulary_size):\n",
    "        super().__init__()\n",
    "        self.embedding = nn.Embedding(vocabulary_size, embedding_size)\n",
    "        self.convolution = nn.Sequential(nn.Conv1d(embedding_size, 16, 3, padding=1), nn.MaxPool1d(2), nn.Conv1d(16, 4, 3, padding=1), nn.MaxPool1d(2))\n",
    "        self.classifier = nn.Sequential(nn.Linear(32, 3), nn.Softmax(dim=1)) \n",
    "        self.cross_entropy = nn.CrossEntropyLoss()\n",
    "        \n",
    "    def forward(self, texts, labels):\n",
    "        z = self.embedding(texts)\n",
    "        z = self.convolution(z.transpose(1, 2))\n",
    "        z = self.classifier(z.reshape(-1, 32))\n",
    "        loss = self.cross_entropy(z, labels)\n",
    "        return z, torch.argmax(z, 1), loss"
   ]
  },
  {
   "cell_type": "code",
   "execution_count": 278,
   "metadata": {},
   "outputs": [],
   "source": [
    "class TTCNN(nn.Module):\n",
    "    \n",
    "    def __init__(self, embedding_size, vocabulary_size):\n",
    "        super().__init__()\n",
    "        self.embedding = nn.Embedding(vocabulary_size, embedding_size)\n",
    "        self.text_convolution = nn.Sequential(nn.Conv1d(embedding_size, 16, 3, padding=1), nn.MaxPool1d(2), nn.Conv1d(16, 4, 3, padding=1), nn.MaxPool1d(2))\n",
    "        self.target_convolution = nn.Sequential(nn.Conv1d(embedding_size, 4, 2, padding=1), nn.MaxPool1d(2))\n",
    "        self.classifier = nn.Sequential(nn.Linear(44, 3), nn.Softmax(dim=1)) \n",
    "        self.cross_entropy = nn.CrossEntropyLoss()\n",
    "        \n",
    "    def forward(self, texts, targets, labels):\n",
    "        text_output   = self.text_convolution(self.embedding(texts).transpose(1, 2))\n",
    "        target_output = self.target_convolution(self.embedding(targets).transpose(1, 2))\n",
    "        output = torch.cat([text_output.reshape(-1, 32), target_output.reshape(-1, 12)], 1)\n",
    "        probabilities = self.classifier(output)\n",
    "        loss = self.cross_entropy(probabilities, labels)\n",
    "        return probabilities, torch.argmax(probabilities, 1), loss"
   ]
  },
  {
   "cell_type": "code",
   "execution_count": 279,
   "metadata": {},
   "outputs": [],
   "source": [
    "class TTCRNN(nn.Module):\n",
    "    \n",
    "    def __init__(self, embedding_size, vocabulary_size):\n",
    "        super().__init__()\n",
    "        self.embedding = nn.Embedding(vocabulary_size, embedding_size)\n",
    "        self.target_rnn = nn.LSTM(embedding_size, 16, batch_first=True)\n",
    "        self.text_rnn = nn.LSTM(embedding_size, 16, batch_first=True)\n",
    "        self.text_convolution = nn.Sequential(nn.Conv1d(embedding_size, 16, 3, padding=1), nn.MaxPool1d(2), nn.Conv1d(16, 4, 3, padding=1), nn.MaxPool1d(2))\n",
    "        self.target_convolution = nn.Sequential(nn.Conv1d(embedding_size, 4, 2, padding=1), nn.MaxPool1d(2))\n",
    "        self.classifier = nn.Sequential(nn.Linear(60, 16), nn.Sigmoid(), nn.Linear(16, 3), nn.Softmax(dim=1)) \n",
    "        self.cross_entropy = nn.CrossEntropyLoss()\n",
    "        \n",
    "    def forward(self, texts, targets, labels):\n",
    "        _, (hidden_state, cell_state) = self.target_rnn(self.embedding(targets))\n",
    "        _, (hidden_state, _) = self.text_rnn(self.embedding(targets), (torch.zeros_like(hidden_state), cell_state))\n",
    "        text_output   = self.text_convolution(self.embedding(texts).transpose(1, 2))\n",
    "        target_output = self.target_convolution(self.embedding(targets).transpose(1, 2))\n",
    "        output = torch.cat([text_output.reshape(-1, 32), target_output.reshape(-1, 12), hidden_state.squeeze()], 1)\n",
    "        probabilities = self.classifier(output)\n",
    "        loss = self.cross_entropy(probabilities, labels)\n",
    "        return probabilities, torch.argmax(probabilities, 1), loss"
   ]
  },
  {
   "cell_type": "code",
   "execution_count": 280,
   "metadata": {},
   "outputs": [],
   "source": [
    "def get_model(state_dict=None):\n",
    "    model = TTCRNN(32, len(vocabulary)).cuda()\n",
    "    if state_dict is not None:\n",
    "        model.load_state_dict(state_dict)\n",
    "    return model"
   ]
  },
  {
   "cell_type": "markdown",
   "metadata": {},
   "source": [
    "## Training\n",
    "The training and testing data is firstly loaded, the vocabulary is formed and it is used to tensorise the data. The training loop is then started and the loss values and evaluation metrics are recorded."
   ]
  },
  {
   "cell_type": "code",
   "execution_count": 244,
   "metadata": {},
   "outputs": [],
   "source": [
    "training, testing = SemEval.get_subtask_a_datasets(\"data/semeval/\")"
   ]
  },
  {
   "cell_type": "code",
   "execution_count": 245,
   "metadata": {},
   "outputs": [],
   "source": [
    "vocabulary = get_vocabulary(training.texts + training.targets)"
   ]
  },
  {
   "cell_type": "code",
   "execution_count": 246,
   "metadata": {},
   "outputs": [],
   "source": [
    "text_length   = max([len(tokenise(text)) for text in training.texts])\n",
    "target_length = max([len(tokenise(target)) for target in training.targets])"
   ]
  },
  {
   "cell_type": "code",
   "execution_count": 247,
   "metadata": {},
   "outputs": [],
   "source": [
    "_z = tensorise(training.texts + testing.texts, vocabulary, maximum_length=text_length)\n",
    "training_inputs = _z[:len(training)], tensorise(training.targets, vocabulary, maximum_length=target_length), torch.tensor(training.stances).cuda()\n",
    "testing_inputs  = _z[len(training):], tensorise(testing.targets,  vocabulary, maximum_length=target_length), torch.tensor(testing.stances).cuda()"
   ]
  },
  {
   "cell_type": "code",
   "execution_count": 289,
   "metadata": {},
   "outputs": [],
   "source": [
    "model = get_model()"
   ]
  },
  {
   "cell_type": "code",
   "execution_count": 290,
   "metadata": {},
   "outputs": [],
   "source": [
    "batch_size = 48\n",
    "early_stopping = 4000\n",
    "optimiser = optim.Adam(model.parameters(), lr=1e-3)"
   ]
  },
  {
   "cell_type": "code",
   "execution_count": 291,
   "metadata": {},
   "outputs": [
    {
     "data": {
      "text/plain": [
       "61"
      ]
     },
     "execution_count": 291,
     "metadata": {},
     "output_type": "execute_result"
    }
   ],
   "source": [
    "batches = ceil(len(training) / batch_size)\n",
    "batches"
   ]
  },
  {
   "cell_type": "code",
   "execution_count": 292,
   "metadata": {},
   "outputs": [],
   "source": [
    "results = {\n",
    "    \"training\": {\n",
    "        \"cross_entropy_loss\": [],\n",
    "        \"f_1_2\": [],\n",
    "        \"f_1_3\": []\n",
    "    },\n",
    "    \"testing\": {\n",
    "        \"cross_entropy_loss\": [],\n",
    "        \"f_1_2\": [],\n",
    "        \"f_1_3\": []\n",
    "    }\n",
    "}"
   ]
  },
  {
   "cell_type": "code",
   "execution_count": 293,
   "metadata": {},
   "outputs": [],
   "source": [
    "step, steps_since_improvement = 0, 0"
   ]
  },
  {
   "cell_type": "code",
   "execution_count": 294,
   "metadata": {},
   "outputs": [],
   "source": [
    "optimal_score, optimal_model_state_dict = 0., None"
   ]
  },
  {
   "cell_type": "code",
   "execution_count": 295,
   "metadata": {},
   "outputs": [
    {
     "name": "stdout",
     "output_type": "stream",
     "text": [
      "0\t0.4463603623267488\t0.2975735748844992\t0.371966968605624\n",
      "1\t0.5697889326594676\t0.37985928843964506\t0.4748241105495563\n",
      "30\t0.6293098047020407\t0.41953986980136043\t0.5244248372517005\n",
      "31\t0.6365524566018267\t0.4243683044012178\t0.5304603805015222\n",
      "140\t0.6522428404011613\t0.4348285602674409\t0.5435357003343011\n",
      "646\t0.6527937774420471\t0.4380818545140343\t0.5454378159780408\n",
      "650\t0.6523284888727869\t0.44343266779553314\t0.54788057833416\n",
      "827\t0.6527659685795388\t0.4436518886575456\t0.5482089286185422\n",
      "868\t0.6331121546856284\t0.46636381407946326\t0.5497379843825458\n",
      "869\t0.6382305884705765\t0.46896531984994955\t0.553597954160263\n",
      "927\t0.6188959921317925\t0.48922568057828314\t0.5540608363550378\n",
      "929\t0.62078231980637\t0.4877129945453545\t0.5542476571758622\n",
      "931\t0.6232076000305631\t0.4895458074277828\t0.5563767037291729\n"
     ]
    }
   ],
   "source": [
    "while steps_since_improvement < early_stopping:\n",
    "    \n",
    "    batch = get_batch(step, batch_size, training_inputs)\n",
    "    \n",
    "    _, predictions, loss = model(*batch)\n",
    "    scores = f1_score(batch[-1].cpu(), predictions.cpu(), average=None)\n",
    "    scores = (np.mean(scores[1:]), np.mean(scores[:]))\n",
    "    \n",
    "    results[\"training\"][\"cross_entropy_loss\"].append(float(loss))\n",
    "    results[\"training\"][\"f_1_2\"].append(scores[0])\n",
    "    results[\"training\"][\"f_1_3\"].append(scores[1])\n",
    "    \n",
    "    loss.backward()\n",
    "    optimiser.step()\n",
    "    model.zero_grad()\n",
    "    \n",
    "    _, predictions, loss = model(*testing_inputs)\n",
    "    scores = f1_score(testing.stances, predictions.cpu(), average=None)\n",
    "    scores = (np.mean(scores[1:]), np.mean(scores[:]))\n",
    "    \n",
    "    results[\"testing\"][\"cross_entropy_loss\"].append(float(loss))\n",
    "    results[\"testing\"][\"f_1_2\"].append(scores[0])\n",
    "    results[\"testing\"][\"f_1_3\"].append(scores[1])\n",
    "    \n",
    "    score = np.mean(scores)\n",
    "    \n",
    "    if score > optimal_score:\n",
    "        optimal_score, optimal_model_state_dict = score, deepcopy(model.state_dict())\n",
    "        print(\"{}\\t{}\\t{}\\t{}\".format(step, *scores, score))\n",
    "        steps_since_improvement = 0\n",
    "    else:\n",
    "        steps_since_improvement += 1\n",
    "    \n",
    "    step += 1"
   ]
  },
  {
   "cell_type": "code",
   "execution_count": 296,
   "metadata": {},
   "outputs": [
    {
     "data": {
      "text/plain": [
       "<matplotlib.legend.Legend at 0x7ff804665080>"
      ]
     },
     "execution_count": 296,
     "metadata": {},
     "output_type": "execute_result"
    },
    {
     "data": {
      "image/png": "[encoded data removed]",
      "text/plain": [
       "<Figure size 1080x360 with 2 Axes>"
      ]
     },
     "metadata": {},
     "output_type": "display_data"
    }
   ],
   "source": [
    "plt.style.use(\"seaborn\")\n",
    "plt.figure(figsize=(15,5))\n",
    "\n",
    "plt.subplot(1, 2, 1)\n",
    "plt.title(\"Optimisation\")\n",
    "plt.plot(results[\"training\"][\"cross_entropy_loss\"][::batches])\n",
    "plt.plot(results[\"testing\"][\"cross_entropy_loss\"][::batches])\n",
    "plt.xlabel(\"Epoch\")\n",
    "plt.ylabel(\"Cross-entropy Loss\")\n",
    "plt.legend([\"Training\", \"Testing\"])\n",
    "\n",
    "plt.subplot(1, 2, 2)\n",
    "plt.title(\"Evaluation\")\n",
    "plt.plot(results[\"training\"][\"f_1_2\"][::batches])\n",
    "plt.plot(results[\"training\"][\"f_1_3\"][::batches])\n",
    "plt.plot(results[\"testing\"][\"f_1_2\"][::batches])\n",
    "plt.plot(results[\"testing\"][\"f_1_3\"][::batches])\n",
    "plt.xlabel(\"Epoch\")\n",
    "plt.ylabel(\"F1\")\n",
    "plt.legend([\"Training F1(2)\", \"Training F1(3)\", \"Testing F1(2)\", \"Testing F1(3)\"])"
   ]
  },
  {
   "cell_type": "markdown",
   "metadata": {},
   "source": [
    "## Evaluation"
   ]
  },
  {
   "cell_type": "code",
   "execution_count": 297,
   "metadata": {},
   "outputs": [],
   "source": [
    "model = get_model(optimal_model_state_dict)"
   ]
  },
  {
   "cell_type": "code",
   "execution_count": 298,
   "metadata": {},
   "outputs": [],
   "source": [
    "_, predictions, _ = model(*testing_inputs)"
   ]
  },
  {
   "cell_type": "code",
   "execution_count": 299,
   "metadata": {},
   "outputs": [
    {
     "name": "stdout",
     "output_type": "stream",
     "text": [
      "              precision    recall  f1-score   support\n",
      "\n",
      "           0       0.34      0.17      0.22       230\n",
      "           1       0.63      0.40      0.49       304\n",
      "           2       0.67      0.88      0.76       715\n",
      "\n",
      "    accuracy                           0.63      1249\n",
      "   macro avg       0.54      0.48      0.49      1249\n",
      "weighted avg       0.60      0.63      0.59      1249\n",
      "\n"
     ]
    }
   ],
   "source": [
    "print(classification_report(testing.stances, predictions.cpu()))"
   ]
  },
  {
   "cell_type": "code",
   "execution_count": 300,
   "metadata": {},
   "outputs": [
    {
     "data": {
      "text/plain": [
       "<matplotlib.axes._subplots.AxesSubplot at 0x7ff8041c1d30>"
      ]
     },
     "execution_count": 300,
     "metadata": {},
     "output_type": "execute_result"
    },
    {
     "data": {
      "image/png": "[encoded data removed]",
      "text/plain": [
       "<Figure size 576x396 with 2 Axes>"
      ]
     },
     "metadata": {},
     "output_type": "display_data"
    }
   ],
   "source": [
    "plot_confusion_matrix(testing.stances, predictions.cpu())"
   ]
  }
 ],
 "metadata": {
  "kernelspec": {
   "display_name": "Python 3",
   "language": "python",
   "name": "python3"
  },
  "language_info": {
   "codemirror_mode": {
    "name": "ipython",
    "version": 3
   },
   "file_extension": ".py",
   "mimetype": "text/x-python",
   "name": "python",
   "nbconvert_exporter": "python",
   "pygments_lexer": "ipython3",
   "version": "3.6.5"
  }
 },
 "nbformat": 4,
 "nbformat_minor": 2
}
