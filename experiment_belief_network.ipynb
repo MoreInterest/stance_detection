{
 "cells": [
  {
   "cell_type": "markdown",
   "metadata": {},
   "source": [
    "# Experiment with Belief Networks\n",
    "In this notebook, two key belief networks are experimented for stance detection."
   ]
  },
  {
   "cell_type": "code",
   "execution_count": 1,
   "metadata": {},
   "outputs": [],
   "source": [
    "from datasets import SemEval, FactmataDataset\n",
    "from math import log\n",
    "import numpy as np\n",
    "from utils import plot_confusion_matrix\n",
    "from sklearn.metrics import classification_report, precision_recall_fscore_support"
   ]
  },
  {
   "cell_type": "markdown",
   "metadata": {},
   "source": [
    "## Utilities\n",
    "\n",
    "The following cells contain functions used to extract the features from text."
   ]
  },
  {
   "cell_type": "code",
   "execution_count": 2,
   "metadata": {},
   "outputs": [],
   "source": [
    "def tokenise(text, n_s=[2, 3]):\n",
    "    text = text.lower()\n",
    "    for character in [\",\", \".\", \"/\", \"?\", \"!\", \"\\\"\", \"\\'\"]:\n",
    "        text = text.replace(character, \" \" + character + \" \")\n",
    "    tokens = text.split()\n",
    "    if n_s is not None:\n",
    "        n_tokens = []\n",
    "        for n in n_s:\n",
    "            n_tokens += get_n_grams(tokens, n)\n",
    "        tokens = tokens + n_tokens\n",
    "    return tokens"
   ]
  },
  {
   "cell_type": "code",
   "execution_count": 3,
   "metadata": {},
   "outputs": [],
   "source": [
    "def get_n_grams(tokens, n):\n",
    "    ngrams = []\n",
    "    for i in range(0, len(tokens) - n + 1):\n",
    "        ngram = []\n",
    "        for j in range(0, n):\n",
    "            ngram.append(tokens[i + j])\n",
    "        ngrams.append(\" \".join(ngram))\n",
    "    return ngrams"
   ]
  },
  {
   "cell_type": "markdown",
   "metadata": {},
   "source": [
    "## A Belief Network with Three Variables\n",
    "In the following, a belief network comprised of three variables is designed. These are the input text $x$, the stance label $y$ and the stance target $\\tau$; together, they form the joint distribution $p(x, y, \\tau) = p(\\tau) p(y | \\tau) p(x | y, \\tau)$. It is assumed that $p(x) = \\prod_{w \\in x} p(w)$ if only 1-grams are used, else $p(x) = \\prod_{i=n}^{T} p(w_i | w_{i-1}, \\dots, w_{i-n+1})$."
   ]
  },
  {
   "cell_type": "markdown",
   "metadata": {},
   "source": [
    "The data is loaded - and optionally the training corpus is randomly downsampled to balance it with regards to the labels."
   ]
  },
  {
   "cell_type": "code",
   "execution_count": 4,
   "metadata": {},
   "outputs": [],
   "source": [
    "training, testing = SemEval.get_subtask_a_datasets(\"data/semeval/\")\n",
    "training = training.downsample()"
   ]
  },
  {
   "cell_type": "code",
   "execution_count": 5,
   "metadata": {},
   "outputs": [],
   "source": [
    "#n_grams = None\n",
    "n_grams = [2, 3]"
   ]
  },
  {
   "cell_type": "markdown",
   "metadata": {},
   "source": [
    "The probability table of $p(y | \\tau)$ is learnt."
   ]
  },
  {
   "cell_type": "code",
   "execution_count": 6,
   "metadata": {},
   "outputs": [],
   "source": [
    "_p_y_t = {}"
   ]
  },
  {
   "cell_type": "code",
   "execution_count": 7,
   "metadata": {},
   "outputs": [],
   "source": [
    "for target, stance in zip(training.targets, training.stances):\n",
    "    if target not in _p_y_t:\n",
    "        _p_y_t[target] = {}\n",
    "    if stance not in _p_y_t[target]:\n",
    "        _p_y_t[target][stance] = 0.\n",
    "    _p_y_t[target][stance] += 1.\n",
    "for target in training.targets:\n",
    "    for stance, value in _p_y_t[target].items():\n",
    "        _p_y_t[target][stance] /= sum(_p_y_t[target].values())"
   ]
  },
  {
   "cell_type": "code",
   "execution_count": 8,
   "metadata": {},
   "outputs": [],
   "source": [
    "def get_probability_of_stance_given_target(stance, target):\n",
    "    return _p_y_t[target][stance]"
   ]
  },
  {
   "cell_type": "markdown",
   "metadata": {},
   "source": [
    "The probability table of $p(w|y,\\tau)$ is learnt."
   ]
  },
  {
   "cell_type": "code",
   "execution_count": 9,
   "metadata": {},
   "outputs": [],
   "source": [
    "_p_w_y_t = {}"
   ]
  },
  {
   "cell_type": "code",
   "execution_count": 10,
   "metadata": {},
   "outputs": [],
   "source": [
    "for text, target, stance in zip(training.texts, training.targets, training.stances):\n",
    "    if target not in _p_w_y_t:\n",
    "        _p_w_y_t[target] = {}\n",
    "    if stance not in _p_w_y_t[target]:\n",
    "        _p_w_y_t[target][stance] = {}\n",
    "    for token in tokenise(text, n_s=n_grams):\n",
    "        if token not in _p_w_y_t[target][stance]:\n",
    "            _p_w_y_t[target][stance][token] = 0.\n",
    "        _p_w_y_t[target][stance][token] += 1."
   ]
  },
  {
   "cell_type": "code",
   "execution_count": 11,
   "metadata": {},
   "outputs": [],
   "source": [
    "def get_probability_of_word_given_target_and_stance(word, target, stance):\n",
    "    alpha = 0.1\n",
    "    numerator = _p_w_y_t[target][stance][word] if word in _p_w_y_t[target][stance] else 0.\n",
    "    numerator += alpha\n",
    "    denominator = sum(_p_w_y_t[target][stance].values()) + alpha * len(_p_w_y_t[target][stance])\n",
    "    return numerator / denominator"
   ]
  },
  {
   "cell_type": "code",
   "execution_count": 12,
   "metadata": {},
   "outputs": [],
   "source": [
    "def get_log_probability_of_text_given_target_and_stance(text, target, stance):\n",
    "    _sum = 0\n",
    "    for word in tokenise(text):\n",
    "        _sum += log(get_probability_of_word_given_target_and_stance(word, target, stance))\n",
    "    return _sum"
   ]
  },
  {
   "cell_type": "markdown",
   "metadata": {},
   "source": [
    "Predictions are computed."
   ]
  },
  {
   "cell_type": "code",
   "execution_count": 13,
   "metadata": {},
   "outputs": [],
   "source": [
    "def get_prediction(text, target):\n",
    "    label, log_probability = None, None\n",
    "    for _label in [0, 1, 2]:\n",
    "        p = get_log_probability_of_text_given_target_and_stance(text, target, _label)\n",
    "        p += log(get_probability_of_stance_given_target(_label, target))\n",
    "        if label is None or p > log_probability:\n",
    "            log_probability = p\n",
    "            label = _label\n",
    "    return label"
   ]
  },
  {
   "cell_type": "code",
   "execution_count": 14,
   "metadata": {},
   "outputs": [],
   "source": [
    "predictions = []\n",
    "for text, target in zip(testing.texts, testing.targets):\n",
    "    prediction = get_prediction(text, target)\n",
    "    predictions.append(prediction)"
   ]
  },
  {
   "cell_type": "code",
   "execution_count": 15,
   "metadata": {},
   "outputs": [
    {
     "name": "stdout",
     "output_type": "stream",
     "text": [
      "              precision    recall  f1-score   support\n",
      "\n",
      "           0       0.32      0.57      0.41       230\n",
      "           1       0.41      0.64      0.50       304\n",
      "           2       0.81      0.41      0.55       715\n",
      "\n",
      "    accuracy                           0.50      1249\n",
      "   macro avg       0.51      0.54      0.49      1249\n",
      "weighted avg       0.62      0.50      0.51      1249\n",
      "\n"
     ]
    }
   ],
   "source": [
    "print(classification_report(testing.stances, predictions))"
   ]
  },
  {
   "cell_type": "code",
   "execution_count": 17,
   "metadata": {},
   "outputs": [
    {
     "data": {
      "text/plain": [
       "<matplotlib.axes._subplots.AxesSubplot at 0x7ff14c62e518>"
      ]
     },
     "execution_count": 17,
     "metadata": {},
     "output_type": "execute_result"
    },
    {
     "data": {
      "image/png": "[encoded data removed]",
      "text/plain": [
       "<Figure size 432x288 with 2 Axes>"
      ]
     },
     "metadata": {
      "needs_background": "light"
     },
     "output_type": "display_data"
    }
   ],
   "source": [
    "plot_confusion_matrix(testing.stances, predictions)"
   ]
  },
  {
   "cell_type": "markdown",
   "metadata": {},
   "source": [
    "## A Belief Network with Two Variables\n",
    "In the following, a belief network comprised of two variables is designed. These are the input text $x$, the stance label $y$ ; together, they form the joint distribution $p(x, y) = p(y) p(x | y)$. It is assumed that $p(x) = \\prod_{w \\in x} p(w)$ if only 1-grams are used, else $p(x) = \\prod_{i=n}^{T} p(w_i | w_{i-1}, \\dots, w_{i-n+1})$."
   ]
  },
  {
   "cell_type": "code",
   "execution_count": 18,
   "metadata": {},
   "outputs": [],
   "source": [
    "training, testing = SemEval.get_subtask_a_datasets(\"data/semeval/\")\n",
    "training = training.downsample()"
   ]
  },
  {
   "cell_type": "code",
   "execution_count": 19,
   "metadata": {},
   "outputs": [],
   "source": [
    "#n_grams = None\n",
    "n_grams = [2, 3]"
   ]
  },
  {
   "cell_type": "code",
   "execution_count": 20,
   "metadata": {},
   "outputs": [],
   "source": [
    "p_y = {stance: training.get_label_distribution()[stance] for stance in training.get_unique_labels()}"
   ]
  },
  {
   "cell_type": "code",
   "execution_count": 21,
   "metadata": {},
   "outputs": [],
   "source": [
    "p_w_y = {}"
   ]
  },
  {
   "cell_type": "code",
   "execution_count": 22,
   "metadata": {},
   "outputs": [],
   "source": [
    "for text, stance in zip(training.texts, training.stances):\n",
    "    if stance not in p_w_y:\n",
    "        p_w_y[stance] = {}\n",
    "    for token in tokenise(text, n_s=n_grams):\n",
    "        if token not in p_w_y[stance]:\n",
    "            p_w_y[stance][token] = 0.\n",
    "        p_w_y[stance][token] += 1."
   ]
  },
  {
   "cell_type": "code",
   "execution_count": 23,
   "metadata": {},
   "outputs": [],
   "source": [
    "def get_probability_of_word_given_stance(word, stance):\n",
    "    alpha = 0.1\n",
    "    numerator = p_w_y[stance][word] if word in p_w_y[stance] else 0.\n",
    "    numerator += alpha\n",
    "    denominator = sum(p_w_y[stance].values()) + alpha * len(p_w_y[stance])\n",
    "    return numerator / denominator"
   ]
  },
  {
   "cell_type": "code",
   "execution_count": 24,
   "metadata": {},
   "outputs": [],
   "source": [
    "def get_log_probability_of_text_given_target_and_stance(text, stance):\n",
    "    _sum = 0\n",
    "    for word in tokenise(text):\n",
    "        _sum += log(get_probability_of_word_given_stance(word, stance))\n",
    "    return _sum"
   ]
  },
  {
   "cell_type": "code",
   "execution_count": 25,
   "metadata": {},
   "outputs": [],
   "source": [
    "def get_prediction(text, target):\n",
    "    label, log_probability = None, None\n",
    "    for _label in [0, 1, 2]:\n",
    "        p = get_log_probability_of_text_given_target_and_stance(text, _label)\n",
    "        p += log(p_y[_label])\n",
    "        if label is None or p > log_probability:\n",
    "            log_probability = p\n",
    "            label = _label\n",
    "    return label"
   ]
  },
  {
   "cell_type": "code",
   "execution_count": 26,
   "metadata": {},
   "outputs": [],
   "source": [
    "predictions = []\n",
    "for text, target in zip(testing.texts, testing.targets):\n",
    "    prediction = get_prediction(text, target)\n",
    "    predictions.append(prediction)"
   ]
  },
  {
   "cell_type": "code",
   "execution_count": 27,
   "metadata": {},
   "outputs": [
    {
     "name": "stdout",
     "output_type": "stream",
     "text": [
      "              precision    recall  f1-score   support\n",
      "\n",
      "           0       0.32      0.59      0.41       230\n",
      "           1       0.34      0.50      0.41       304\n",
      "           2       0.76      0.39      0.52       715\n",
      "\n",
      "    accuracy                           0.46      1249\n",
      "   macro avg       0.47      0.50      0.44      1249\n",
      "weighted avg       0.58      0.46      0.47      1249\n",
      "\n"
     ]
    }
   ],
   "source": [
    "print(classification_report(testing.stances, predictions))"
   ]
  },
  {
   "cell_type": "code",
   "execution_count": 28,
   "metadata": {},
   "outputs": [
    {
     "data": {
      "text/plain": [
       "<matplotlib.axes._subplots.AxesSubplot at 0x7ff148d0c7f0>"
      ]
     },
     "execution_count": 28,
     "metadata": {},
     "output_type": "execute_result"
    },
    {
     "data": {
      "image/png": "[encoded data removed]",
      "text/plain": [
       "<Figure size 432x288 with 2 Axes>"
      ]
     },
     "metadata": {
      "needs_background": "light"
     },
     "output_type": "display_data"
    }
   ],
   "source": [
    "plot_confusion_matrix(testing.stances, predictions)"
   ]
  }
 ],
 "metadata": {
  "kernelspec": {
   "display_name": "Python 3",
   "language": "python",
   "name": "python3"
  },
  "language_info": {
   "codemirror_mode": {
    "name": "ipython",
    "version": 3
   },
   "file_extension": ".py",
   "mimetype": "text/x-python",
   "name": "python",
   "nbconvert_exporter": "python",
   "pygments_lexer": "ipython3",
   "version": "3.6.5"
  }
 },
 "nbformat": 4,
 "nbformat_minor": 2
}
