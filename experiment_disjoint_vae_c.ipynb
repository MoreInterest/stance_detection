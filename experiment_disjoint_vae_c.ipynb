{
 "cells": [
  {
   "cell_type": "markdown",
   "metadata": {},
   "source": [
    "# Variational Autoencoder-Classifier with Disjoint Training\n",
    "This notebook provides the tools necessary to perform disjoint training of the proposed variational autoencoder-classifier design."
   ]
  },
  {
   "cell_type": "markdown",
   "metadata": {},
   "source": [
    "## Setup"
   ]
  },
  {
   "cell_type": "code",
   "execution_count": 1,
   "metadata": {},
   "outputs": [],
   "source": [
    "%load_ext autoreload\n",
    "%autoreload 2"
   ]
  },
  {
   "cell_type": "code",
   "execution_count": 2,
   "metadata": {},
   "outputs": [],
   "source": [
    "import torch\n",
    "import pickle"
   ]
  },
  {
   "cell_type": "code",
   "execution_count": 3,
   "metadata": {},
   "outputs": [],
   "source": [
    "from datasets import SemEval, SemEvalSeenUnlabelled\n",
    "from torch import nn, optim, distributions\n",
    "from bert import encode\n",
    "from matplotlib import pyplot as plt\n",
    "from copy import deepcopy\n",
    "from sklearn.metrics import precision_recall_fscore_support, f1_score, classification_report\n",
    "from sklearn.manifold import TSNE\n",
    "import numpy as np\n",
    "from math import ceil\n",
    "from warnings import filterwarnings\n",
    "from utils import plot_confusion_matrix, save_state_dict, load_state_dict"
   ]
  },
  {
   "cell_type": "code",
   "execution_count": 4,
   "metadata": {},
   "outputs": [],
   "source": [
    "filterwarnings(\"ignore\")"
   ]
  },
  {
   "cell_type": "code",
   "execution_count": 5,
   "metadata": {},
   "outputs": [],
   "source": [
    "vae_state_dict_name = \"disjoint_vaec_vae\"\n",
    "classifier_state_dict_name = \"disjoint_vaec_classifier\""
   ]
  },
  {
   "cell_type": "markdown",
   "metadata": {},
   "source": [
    "## Model Implementation\n",
    "In the following cells, the variational autoencoder and classifier architectures are implemented."
   ]
  },
  {
   "cell_type": "code",
   "execution_count": 6,
   "metadata": {},
   "outputs": [],
   "source": [
    "def get_normal(means, log_scales):\n",
    "    return distributions.Independent(distributions.Normal(means, torch.exp(log_scales)), 1)\n",
    "\n",
    "def get_standard_normal_like(means, log_scales):\n",
    "    return get_normal(torch.zeros_like(means), torch.ones_like(log_scales))"
   ]
  },
  {
   "cell_type": "code",
   "execution_count": 7,
   "metadata": {},
   "outputs": [],
   "source": [
    "def get_batch(step, batch_size, z):\n",
    "    batches = ceil(len(z[0]) / batch_size)\n",
    "    i = step % batches\n",
    "    start, end = i * batch_size, min((i + 1) * batch_size, len(z[0]))\n",
    "    return [a[start:end].cuda() for a in z]"
   ]
  },
  {
   "cell_type": "code",
   "execution_count": 8,
   "metadata": {},
   "outputs": [],
   "source": [
    "class VAE(nn.Module):\n",
    "    \n",
    "    def __init__(self, input_size, latent_size):\n",
    "        super().__init__()\n",
    "        self.mean_encoder = nn.Linear(input_size, latent_size)\n",
    "        self.log_scale_encoder = nn.Linear(input_size, latent_size)\n",
    "        self.mean_decoder = nn.Linear(latent_size, input_size)\n",
    "        self.log_scale_decoder = nn.Linear(latent_size, input_size)\n",
    "        \n",
    "    def forward(self, inputs):\n",
    "        encoder_mean, encoder_log_scale = self.mean_encoder(inputs), self.log_scale_encoder(inputs)\n",
    "        prior = get_standard_normal_like(encoder_mean, encoder_log_scale)\n",
    "        posterior = get_normal(encoder_mean, encoder_log_scale)\n",
    "        kl_divergence = distributions.kl.kl_divergence(posterior, prior)\n",
    "        \n",
    "        latents = prior.sample() * torch.exp(encoder_log_scale) + encoder_log_scale\n",
    "        decoder_mean, decoder_log_scale = self.mean_decoder(latents), self.log_scale_decoder(latents)\n",
    "        likelihood = get_normal(decoder_mean, decoder_log_scale)\n",
    "        log_likelihood = likelihood.log_prob(inputs)\n",
    "        \n",
    "        kl_divergence, log_likelihood = torch.mean(kl_divergence), torch.mean(log_likelihood)\n",
    "        \n",
    "        return kl_divergence - log_likelihood, (kl_divergence, log_likelihood), (posterior, likelihood)"
   ]
  },
  {
   "cell_type": "code",
   "execution_count": 9,
   "metadata": {},
   "outputs": [],
   "source": [
    "class Classifier(nn.Module):\n",
    "    \n",
    "    def __init__(self, input_size, intermediate_size, target_size):\n",
    "        super().__init__()\n",
    "        self.probabilities = nn.Sequential(nn.Linear(input_size, intermediate_size), nn.ReLU(), nn.Linear(intermediate_size, target_size), nn.Softmax(dim=1))\n",
    "        self.cross_entropy = nn.CrossEntropyLoss()\n",
    "        \n",
    "    def forward(self, inputs, labels=None):\n",
    "        probabilities = self.probabilities(inputs)\n",
    "        return probabilities, self.cross_entropy(probabilities, labels) if labels is not None else None"
   ]
  },
  {
   "cell_type": "markdown",
   "metadata": {},
   "source": [
    "## Loading the Data\n",
    "The labelled training and testing datasets are loaded, along with the unlabelled one."
   ]
  },
  {
   "cell_type": "code",
   "execution_count": 10,
   "metadata": {},
   "outputs": [],
   "source": [
    "training, testing = SemEval.get_subtask_a_datasets(\"data/semeval/\")"
   ]
  },
  {
   "cell_type": "code",
   "execution_count": 11,
   "metadata": {},
   "outputs": [],
   "source": [
    "unlabelled = SemEvalSeenUnlabelled(\"data/semeval/subtask_a_unlabelled.json\")"
   ]
  },
  {
   "cell_type": "code",
   "execution_count": 12,
   "metadata": {},
   "outputs": [],
   "source": [
    "training_inputs = encode(training.texts, training.targets, method=\"conditional-target\", maximum_length=77).cuda(), torch.tensor(training.stances).cuda()\n",
    "testing_inputs  = encode(testing.texts,  testing.targets,  method=\"conditional-target\", maximum_length=77).cuda(), torch.tensor(testing.stances).cuda()"
   ]
  },
  {
   "cell_type": "code",
   "execution_count": 13,
   "metadata": {},
   "outputs": [],
   "source": [
    "unlabelled_inputs = encode(unlabelled.texts,  unlabelled.targets, method=\"conditional-target\", maximum_length=77).cuda(),\n",
    "#unlabelled_inputs = pickle.load(open(\"/media/glacier/matteo/data/unlabelled_tweets/big_bert_conditional_target_77.pickle\", \"rb\")),"
   ]
  },
  {
   "cell_type": "markdown",
   "metadata": {},
   "source": [
    "## Training the Variational Autoencoder\n",
    "\n",
    "The variational autoencoder is trained on the unlabelled examples and the evolution of the components of the ELBo is plotted."
   ]
  },
  {
   "cell_type": "code",
   "execution_count": 14,
   "metadata": {},
   "outputs": [],
   "source": [
    "vae = VAE(768, 48).cuda()"
   ]
  },
  {
   "cell_type": "code",
   "execution_count": 15,
   "metadata": {},
   "outputs": [],
   "source": [
    "optimiser = optim.Adam(vae.parameters(), lr=3e-4)"
   ]
  },
  {
   "cell_type": "code",
   "execution_count": 16,
   "metadata": {},
   "outputs": [],
   "source": [
    "batch_size = 256\n",
    "batches = ceil(len(unlabelled_inputs[0]) / batch_size)\n",
    "step, steps_since_improvement, early_stopping = 0, 0, batches"
   ]
  },
  {
   "cell_type": "code",
   "execution_count": 17,
   "metadata": {},
   "outputs": [],
   "source": [
    "optimal_loss, optimal_vae_state_dict = None, None"
   ]
  },
  {
   "cell_type": "code",
   "execution_count": 18,
   "metadata": {},
   "outputs": [],
   "source": [
    "results = {\n",
    "    \"log_likelihood\": [],\n",
    "    \"kl_divergence\":  [],\n",
    "}"
   ]
  },
  {
   "cell_type": "code",
   "execution_count": 19,
   "metadata": {},
   "outputs": [],
   "source": [
    "while steps_since_improvement < early_stopping:\n",
    "    \n",
    "    loss, (kl_divergence, log_likelihood), _ = vae(*get_batch(step, batch_size, unlabelled_inputs))\n",
    "    loss.backward()\n",
    "    optimiser.step()\n",
    "    vae.zero_grad()\n",
    "    \n",
    "    results[\"log_likelihood\"].append(float(log_likelihood))\n",
    "    results[\"kl_divergence\"].append(float(kl_divergence))\n",
    "    \n",
    "    if optimal_loss is None or float(loss) < optimal_loss:\n",
    "        optimal_loss = float(loss)\n",
    "        optimal_vae_state_dict = deepcopy(vae.state_dict())\n",
    "        steps_since_improvement = 0\n",
    "    else:\n",
    "        steps_since_improvement += 1\n",
    "    \n",
    "    step += 1"
   ]
  },
  {
   "cell_type": "code",
   "execution_count": 20,
   "metadata": {},
   "outputs": [],
   "source": [
    "save_state_dict(optimal_vae_state_dict, vae_state_dict_name)"
   ]
  },
  {
   "cell_type": "code",
   "execution_count": 21,
   "metadata": {},
   "outputs": [
    {
     "data": {
      "text/plain": [
       "Text(0, 0.5, 'KL Divergence')"
      ]
     },
     "execution_count": 21,
     "metadata": {},
     "output_type": "execute_result"
    },
    {
     "data": {
      "image/png": "[encoded data removed]",
      "text/plain": [
       "<Figure size 1800x576 with 2 Axes>"
      ]
     },
     "metadata": {},
     "output_type": "display_data"
    }
   ],
   "source": [
    "plt.style.use(\"seaborn\")\n",
    "plt.figure(figsize=(25, 8))\n",
    "\n",
    "plt.subplot(1, 2, 1)\n",
    "plt.plot(results[\"log_likelihood\"][100::batches])\n",
    "plt.xlabel(\"Step\")\n",
    "plt.ylabel(\"(log) Likelihood\")\n",
    "\n",
    "plt.subplot(1, 2, 2)\n",
    "plt.plot(results[\"kl_divergence\"][100::batches])\n",
    "plt.xlabel(\"Step\")\n",
    "plt.ylabel(\"KL Divergence\")"
   ]
  },
  {
   "cell_type": "markdown",
   "metadata": {},
   "source": [
    "## Training the Classifier\n",
    "The classifier is firstly trained in a fully supervised way using the labelled examples; at each training step, the model is evaluated on the training set and the most performing model is cloned and saved."
   ]
  },
  {
   "cell_type": "code",
   "execution_count": 22,
   "metadata": {},
   "outputs": [],
   "source": [
    "classifier = Classifier(768, 48, 3).cuda()\n",
    "optimiser = optim.Adam(classifier.parameters(), lr=1e-3)"
   ]
  },
  {
   "cell_type": "code",
   "execution_count": 23,
   "metadata": {},
   "outputs": [],
   "source": [
    "batch_size = 48\n",
    "batches = ceil(len(training_inputs[0]) / batch_size)\n",
    "step, steps_since_improvement, early_stopping = 0, 0, 4000"
   ]
  },
  {
   "cell_type": "code",
   "execution_count": 24,
   "metadata": {},
   "outputs": [],
   "source": [
    "optimal_score, optimal_classifier_state_dict = None, None"
   ]
  },
  {
   "cell_type": "code",
   "execution_count": 25,
   "metadata": {},
   "outputs": [],
   "source": [
    "results = {\n",
    "    \"training\": {\n",
    "        \"cross_entropy\": []\n",
    "    },\n",
    "    \"testing\": {\n",
    "        \"cross_entropy\": []\n",
    "    }\n",
    "}"
   ]
  },
  {
   "cell_type": "code",
   "execution_count": 26,
   "metadata": {},
   "outputs": [],
   "source": [
    "while steps_since_improvement < early_stopping:\n",
    "    \n",
    "    _, loss = classifier(*get_batch(step, batch_size, training_inputs))\n",
    "    loss.backward()\n",
    "    optimiser.step()\n",
    "    classifier.zero_grad()\n",
    "    \n",
    "    results[\"training\"][\"cross_entropy\"].append(float(loss))\n",
    "    \n",
    "    probabilities, loss = classifier(*testing_inputs)\n",
    "    results[\"testing\"][\"cross_entropy\"].append(float(loss))\n",
    "    predictions = torch.argmax(probabilities, 1)\n",
    "    scores = f1_score(testing.stances, predictions.cpu(), average=None)\n",
    "    scores = (np.mean(scores[1:]), np.mean(scores[:]))\n",
    "    \n",
    "    score = np.mean(scores)\n",
    "    \n",
    "    if optimal_score is None or score > optimal_score:\n",
    "        optimal_score = score\n",
    "        optimal_classifier_state_dict = deepcopy(classifier.state_dict())\n",
    "        steps_since_improvement = 0\n",
    "    else:\n",
    "        steps_since_improvement += 1\n",
    "    \n",
    "    step += 1"
   ]
  },
  {
   "cell_type": "code",
   "execution_count": 27,
   "metadata": {},
   "outputs": [
    {
     "data": {
      "text/plain": [
       "<matplotlib.legend.Legend at 0x7f68de07b3c8>"
      ]
     },
     "execution_count": 27,
     "metadata": {},
     "output_type": "execute_result"
    },
    {
     "data": {
      "image/png": "[encoded data removed]",
      "text/plain": [
       "<Figure size 1080x576 with 1 Axes>"
      ]
     },
     "metadata": {},
     "output_type": "display_data"
    }
   ],
   "source": [
    "plt.style.use(\"seaborn\")\n",
    "plt.figure(figsize=(15, 8))\n",
    "\n",
    "plt.plot(results[\"training\"][\"cross_entropy\"][::batches])\n",
    "plt.plot(results[\"testing\"][\"cross_entropy\"][::batches])\n",
    "plt.xlabel(\"Epoch\")\n",
    "plt.ylabel(\"Cross-entropy Loss\")\n",
    "plt.legend([\"Training\", \"Testing\"])"
   ]
  },
  {
   "cell_type": "markdown",
   "metadata": {},
   "source": [
    "## VAE-C Training\n",
    "In the following, the classifier is refined for classification by introducing the consistency objective."
   ]
  },
  {
   "cell_type": "code",
   "execution_count": 28,
   "metadata": {},
   "outputs": [
    {
     "data": {
      "text/plain": [
       "IncompatibleKeys(missing_keys=[], unexpected_keys=[])"
      ]
     },
     "execution_count": 28,
     "metadata": {},
     "output_type": "execute_result"
    }
   ],
   "source": [
    "vae = VAE(768, 48).cuda()\n",
    "vae.load_state_dict(optimal_vae_state_dict)"
   ]
  },
  {
   "cell_type": "code",
   "execution_count": 29,
   "metadata": {},
   "outputs": [
    {
     "data": {
      "text/plain": [
       "IncompatibleKeys(missing_keys=[], unexpected_keys=[])"
      ]
     },
     "execution_count": 29,
     "metadata": {},
     "output_type": "execute_result"
    }
   ],
   "source": [
    "classifier = Classifier(768, 48, 3).cuda()\n",
    "classifier.load_state_dict(optimal_classifier_state_dict)"
   ]
  },
  {
   "cell_type": "code",
   "execution_count": 30,
   "metadata": {},
   "outputs": [],
   "source": [
    "optimiser = optim.Adam(classifier.parameters(), lr=3e-4)\n",
    "batch_size = 48\n",
    "batches = ceil(len(training_inputs[0]) / batch_size)"
   ]
  },
  {
   "cell_type": "code",
   "execution_count": 31,
   "metadata": {},
   "outputs": [],
   "source": [
    "step, steps_since_improvement, early_stopping = 0, 0, 4000"
   ]
  },
  {
   "cell_type": "code",
   "execution_count": 32,
   "metadata": {},
   "outputs": [],
   "source": [
    "optimal_score, optimal_vaec_classifier_state_dict = None, None"
   ]
  },
  {
   "cell_type": "code",
   "execution_count": 33,
   "metadata": {},
   "outputs": [],
   "source": [
    "results = {\n",
    "    \"training\": {\n",
    "        \"cross_entropy\": [],\n",
    "        \"kl_divergence\": []\n",
    "    },\n",
    "    \"testing\": {\n",
    "        \"cross_entropy\": [],\n",
    "        \"f_1_2\": [],\n",
    "        \"f_1_3\": []\n",
    "    }\n",
    "}"
   ]
  },
  {
   "cell_type": "code",
   "execution_count": null,
   "metadata": {},
   "outputs": [],
   "source": [
    "while steps_since_improvement < early_stopping:\n",
    "    \n",
    "    classifier.zero_grad()\n",
    "    \n",
    "    batch = get_batch(step, batch_size, unlabelled_inputs)\n",
    "    _, _, (_, likelihood) = vae(batch[0])\n",
    "    reconstructions = likelihood.mean\n",
    "    \n",
    "    p1, cross_entropy = classifier(*get_batch(step, batch_size, training_inputs))\n",
    "    p2_1, _ = classifier(batch[0])\n",
    "    p2_2, _ = classifier(reconstructions)\n",
    "    \n",
    "    kl_div = nn.KLDivLoss(reduction=\"batchmean\")\n",
    "    ce = nn.CrossEntropyLoss()\n",
    "    \n",
    "    consistency_loss = kl_div(torch.log(p2_2), p2_1)\n",
    "    \n",
    "    results[\"training\"][\"cross_entropy\"].append(float(cross_entropy))\n",
    "    results[\"training\"][\"kl_divergence\"].append(float(consistency_loss))\n",
    "    \n",
    "    loss = cross_entropy + consistency_loss\n",
    "    \n",
    "    loss.backward()\n",
    "    optimiser.step()\n",
    "    \n",
    "    probabilities, loss = classifier(*testing_inputs)\n",
    "    predictions = torch.argmax(probabilities, 1)\n",
    "    scores = f1_score(testing.stances, predictions.cpu(), average=None)\n",
    "    results[\"testing\"][\"cross_entropy\"].append(loss)\n",
    "    results[\"testing\"][\"f_1_2\"].append(np.mean(scores[1:]))\n",
    "    results[\"testing\"][\"f_1_3\"].append(np.mean(scores[:]))\n",
    "    scores = (np.mean(scores[1:]), np.mean(scores[:]))\n",
    "    score = np.mean(scores)\n",
    "    \n",
    "    if optimal_score is None or score > optimal_score:\n",
    "        optimal_score = score\n",
    "        optimal_vaec_classifier_state_dict = deepcopy(classifier.state_dict())\n",
    "        steps_since_improvement = 0\n",
    "    else:\n",
    "        steps_since_improvement += 1\n",
    "    \n",
    "    step += 1"
   ]
  },
  {
   "cell_type": "code",
   "execution_count": null,
   "metadata": {},
   "outputs": [],
   "source": [
    "save_state_dict(optimal_vaec_classifier_state_dict, classifier_state_dict_name)"
   ]
  },
  {
   "cell_type": "code",
   "execution_count": null,
   "metadata": {},
   "outputs": [],
   "source": [
    "plt.figure(figsize=(28, 8))\n",
    "\n",
    "plt.subplot(1, 3, 1)\n",
    "plt.plot(results[\"training\"][\"cross_entropy\"][::batches])\n",
    "plt.plot(results[\"testing\"][\"cross_entropy\"][::batches])\n",
    "plt.xlabel('Epoch')\n",
    "plt.ylabel('Cross-entropy Loss')\n",
    "plt.legend([\"Training\", \"Testing\"])\n",
    "plt.title(\"Classification Performance\")\n",
    "\n",
    "plt.subplot(1, 3, 2)\n",
    "plt.plot(results[\"training\"][\"kl_divergence\"][::batches])\n",
    "plt.xlabel('Epoch')\n",
    "plt.ylabel('KL-Divergence')\n",
    "plt.title(\"Consistency\")\n",
    "\n",
    "plt.subplot(1, 3, 3)\n",
    "plt.plot(results[\"testing\"][\"f_1_2\"][::batches])\n",
    "plt.plot(results[\"testing\"][\"f_1_3\"][::batches])\n",
    "plt.xlabel(\"Epoch\")\n",
    "plt.ylabel(\"F1\")\n",
    "plt.title(\"Classification Metric\")"
   ]
  },
  {
   "cell_type": "markdown",
   "metadata": {},
   "source": [
    "## Evaluation\n",
    "In the following cells, a comparison on the classification performance of the VAE-C model and its classifier taken independently before being refined is shown."
   ]
  },
  {
   "cell_type": "code",
   "execution_count": null,
   "metadata": {},
   "outputs": [],
   "source": [
    "classifier = Classifier(768, 48, 3).cuda()\n",
    "classifier.load_state_dict(optimal_vaec_classifier_state_dict)\n",
    "probabilities, _ = classifier(*testing_inputs)\n",
    "predictions = torch.argmax(probabilities, 1)\n",
    "print(classification_report(testing.stances, predictions.cpu()))\n",
    "plot_confusion_matrix(testing.stances, predictions.cpu())"
   ]
  },
  {
   "cell_type": "code",
   "execution_count": null,
   "metadata": {},
   "outputs": [],
   "source": [
    "classifier = Classifier(768, 48, 3).cuda()\n",
    "classifier.load_state_dict(optimal_classifier_state_dict)\n",
    "probabilities, _ = classifier(*testing_inputs)\n",
    "predictions = torch.argmax(probabilities, 1)\n",
    "print(classification_report(testing.stances, predictions.cpu()))\n",
    "plot_confusion_matrix(testing.stances, predictions.cpu())"
   ]
  },
  {
   "cell_type": "code",
   "execution_count": null,
   "metadata": {},
   "outputs": [],
   "source": []
  },
  {
   "cell_type": "code",
   "execution_count": null,
   "metadata": {},
   "outputs": [],
   "source": []
  },
  {
   "cell_type": "code",
   "execution_count": null,
   "metadata": {},
   "outputs": [],
   "source": []
  },
  {
   "cell_type": "code",
   "execution_count": null,
   "metadata": {},
   "outputs": [],
   "source": []
  },
  {
   "cell_type": "code",
   "execution_count": null,
   "metadata": {},
   "outputs": [],
   "source": []
  },
  {
   "cell_type": "code",
   "execution_count": null,
   "metadata": {},
   "outputs": [],
   "source": []
  },
  {
   "cell_type": "code",
   "execution_count": null,
   "metadata": {},
   "outputs": [],
   "source": []
  },
  {
   "cell_type": "code",
   "execution_count": null,
   "metadata": {},
   "outputs": [],
   "source": []
  },
  {
   "cell_type": "code",
   "execution_count": null,
   "metadata": {},
   "outputs": [],
   "source": []
  },
  {
   "cell_type": "code",
   "execution_count": null,
   "metadata": {},
   "outputs": [],
   "source": []
  },
  {
   "cell_type": "code",
   "execution_count": null,
   "metadata": {},
   "outputs": [],
   "source": []
  },
  {
   "cell_type": "code",
   "execution_count": null,
   "metadata": {},
   "outputs": [],
   "source": []
  },
  {
   "cell_type": "code",
   "execution_count": null,
   "metadata": {},
   "outputs": [],
   "source": []
  },
  {
   "cell_type": "code",
   "execution_count": null,
   "metadata": {},
   "outputs": [],
   "source": []
  },
  {
   "cell_type": "code",
   "execution_count": null,
   "metadata": {},
   "outputs": [],
   "source": []
  }
 ],
 "metadata": {
  "kernelspec": {
   "display_name": "Python 3",
   "language": "python",
   "name": "python3"
  },
  "language_info": {
   "codemirror_mode": {
    "name": "ipython",
    "version": 3
   },
   "file_extension": ".py",
   "mimetype": "text/x-python",
   "name": "python",
   "nbconvert_exporter": "python",
   "pygments_lexer": "ipython3",
   "version": "3.6.5"
  }
 },
 "nbformat": 4,
 "nbformat_minor": 2
}
