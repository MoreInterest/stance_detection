{
 "cells": [
  {
   "cell_type": "markdown",
   "metadata": {},
   "source": [
    "# Stance Detection with Data Augmentation\n",
    "In this notebook, data augmentation is applied to stance detection."
   ]
  },
  {
   "cell_type": "code",
   "execution_count": 1,
   "metadata": {},
   "outputs": [],
   "source": [
    "import torch\n",
    "import pickle"
   ]
  },
  {
   "cell_type": "code",
   "execution_count": 2,
   "metadata": {},
   "outputs": [],
   "source": [
    "from datasets import SemEval, SemEvalSeenUnlabelled, StanceDataset, FactmataDataset\n",
    "from torch import nn, optim\n",
    "from bert import encode\n",
    "from matplotlib import pyplot as plt\n",
    "from copy import deepcopy\n",
    "from sklearn.metrics import precision_recall_fscore_support, f1_score, classification_report\n",
    "import numpy as np\n",
    "from math import ceil\n",
    "from utils import get_batch, plot_confusion_matrix\n",
    "from warnings import filterwarnings"
   ]
  },
  {
   "cell_type": "code",
   "execution_count": 3,
   "metadata": {},
   "outputs": [],
   "source": [
    "filterwarnings(\"ignore\")"
   ]
  },
  {
   "cell_type": "code",
   "execution_count": 4,
   "metadata": {},
   "outputs": [],
   "source": [
    "torch.cuda.set_device(1)"
   ]
  },
  {
   "cell_type": "markdown",
   "metadata": {},
   "source": [
    "## Utilities and Model Implementation"
   ]
  },
  {
   "cell_type": "code",
   "execution_count": 5,
   "metadata": {},
   "outputs": [],
   "source": [
    "def tokenise(text):\n",
    "    return text.split()"
   ]
  },
  {
   "cell_type": "code",
   "execution_count": 6,
   "metadata": {},
   "outputs": [],
   "source": [
    "def join(tokens):\n",
    "    return \" \".join(tokens)"
   ]
  },
  {
   "cell_type": "code",
   "execution_count": 7,
   "metadata": {},
   "outputs": [],
   "source": [
    "def swap(text, p):\n",
    "    tokens = tokenise(text)\n",
    "    for i, token in enumerate(tokens):\n",
    "        if np.random.rand() < p:\n",
    "            j = np.random.randint(len(tokens))\n",
    "            tokens[i], tokens[j] = tokens[j], tokens[i]\n",
    "    return join(tokens)"
   ]
  },
  {
   "cell_type": "code",
   "execution_count": 8,
   "metadata": {},
   "outputs": [],
   "source": [
    "def delete(text, p):\n",
    "    tokens = []\n",
    "    for token in tokenise(text):\n",
    "        if np.random.rand() > p or (token.startswith(\"#\") or token.startswith(\"@\")):\n",
    "            tokens.append(token)\n",
    "    return join(tokens)"
   ]
  },
  {
   "cell_type": "code",
   "execution_count": 9,
   "metadata": {},
   "outputs": [],
   "source": [
    "def _modify(text, swap_p, delete_p):\n",
    "    return swap(delete(text, delete_p), swap_p)"
   ]
  },
  {
   "cell_type": "code",
   "execution_count": 10,
   "metadata": {},
   "outputs": [],
   "source": [
    "def modify(texts, swap_p, delete_p):\n",
    "    return [_modify(text, swap_p, delete_p) for text in texts]"
   ]
  },
  {
   "cell_type": "code",
   "execution_count": 11,
   "metadata": {},
   "outputs": [],
   "source": [
    "def augment(texts, targets, stances, n, swap_p, delete_p):\n",
    "    new = []\n",
    "    for _ in range(n):\n",
    "        for text, target, stance in zip(texts, targets, stances):\n",
    "            new.append((_modify(text, swap_p, delete_p), target, stance))\n",
    "    return StanceDataset([z[0] for z in new], [z[1] for z in new], [z[2] for z in new])"
   ]
  },
  {
   "cell_type": "code",
   "execution_count": 12,
   "metadata": {},
   "outputs": [],
   "source": [
    "class Model(nn.Module):\n",
    "    \n",
    "    def __init__(self):\n",
    "        super().__init__()\n",
    "        self.classifier = nn.Sequential(nn.Linear(768, 64), nn.ReLU(), nn.Linear(64, 3), nn.Softmax(dim=1))\n",
    "        self.cross_entropy_loss_function = nn.CrossEntropyLoss()\n",
    "        \n",
    "    def forward(self, inputs, labels):\n",
    "        probabilities = self.classifier(inputs)\n",
    "        cross_entropy = self.cross_entropy_loss_function(probabilities, labels)\n",
    "        return probabilities, torch.argmax(probabilities, 1), cross_entropy"
   ]
  },
  {
   "cell_type": "code",
   "execution_count": 13,
   "metadata": {},
   "outputs": [],
   "source": [
    "def get_model(state_dict=None):\n",
    "    torch.manual_seed(42)\n",
    "    model = Model().cuda()\n",
    "    if state_dict is not None:\n",
    "        model.load_state_dict(state_dict)\n",
    "    return model"
   ]
  },
  {
   "cell_type": "markdown",
   "metadata": {},
   "source": [
    "## Training"
   ]
  },
  {
   "cell_type": "code",
   "execution_count": 14,
   "metadata": {},
   "outputs": [],
   "source": [
    "training, testing = SemEval.get_subtask_b_datasets(\"data/semeval/\")"
   ]
  },
  {
   "cell_type": "code",
   "execution_count": 15,
   "metadata": {},
   "outputs": [],
   "source": [
    "augmented = augment(training.texts, training.targets, training.stances, 10, 0.1, 0.2)"
   ]
  },
  {
   "cell_type": "code",
   "execution_count": 16,
   "metadata": {},
   "outputs": [],
   "source": [
    "training = training + augmented"
   ]
  },
  {
   "cell_type": "code",
   "execution_count": 17,
   "metadata": {},
   "outputs": [],
   "source": [
    "maximum_length = 77"
   ]
  },
  {
   "cell_type": "code",
   "execution_count": 18,
   "metadata": {},
   "outputs": [
    {
     "name": "stdout",
     "output_type": "stream",
     "text": [
      "0 of 229\n",
      "50 of 229\n",
      "100 of 229\n",
      "150 of 229\n",
      "200 of 229\n"
     ]
    }
   ],
   "source": [
    "training_inputs = encode(training.texts, training.targets, method=\"conditional-target\", maximum_length=maximum_length, verbose=True).cuda(), torch.tensor(training.stances).cuda()\n",
    "testing_inputs = encode(testing.texts, testing.targets, method=\"conditional-target\", maximum_length=maximum_length).cuda(), torch.tensor(testing.stances).cuda()"
   ]
  },
  {
   "cell_type": "code",
   "execution_count": 19,
   "metadata": {},
   "outputs": [
    {
     "data": {
      "text/plain": [
       "955"
      ]
     },
     "execution_count": 19,
     "metadata": {},
     "output_type": "execute_result"
    }
   ],
   "source": [
    "batch_size = 48\n",
    "batches = ceil(len(training) / batch_size)\n",
    "batches"
   ]
  },
  {
   "cell_type": "code",
   "execution_count": 26,
   "metadata": {},
   "outputs": [],
   "source": [
    "model = get_model()"
   ]
  },
  {
   "cell_type": "code",
   "execution_count": 27,
   "metadata": {},
   "outputs": [],
   "source": [
    "optimiser = optim.Adam(model.parameters(), lr=1e-4)"
   ]
  },
  {
   "cell_type": "code",
   "execution_count": 28,
   "metadata": {},
   "outputs": [],
   "source": [
    "step = 0"
   ]
  },
  {
   "cell_type": "code",
   "execution_count": 29,
   "metadata": {},
   "outputs": [],
   "source": [
    "optimal_score, optimal_model_state_dict = 0.0, None"
   ]
  },
  {
   "cell_type": "code",
   "execution_count": 30,
   "metadata": {},
   "outputs": [],
   "source": [
    "results = {\n",
    "    \"training\": {\n",
    "        \"cross_entropy\": []\n",
    "    },\n",
    "    \"testing\": {\n",
    "        \"cross_entropy\": []\n",
    "    },\n",
    "}"
   ]
  },
  {
   "cell_type": "code",
   "execution_count": null,
   "metadata": {},
   "outputs": [
    {
     "name": "stdout",
     "output_type": "stream",
     "text": [
      "49454\t0.32505192665807187\t0.40000734008519573\t0.3625296333716338\n",
      "50409\t0.32578893607870546\t0.4000059792796186\t0.36289745767916204\n",
      "51364\t0.32773319065453893\t0.4011070555958753\t0.3644201231252071\n"
     ]
    }
   ],
   "source": [
    "while True:\n",
    "    \n",
    "    optimiser.zero_grad()\n",
    "    model.zero_grad()\n",
    "    \n",
    "    batch = get_batch(step, batch_size, training_inputs)\n",
    "    \n",
    "    _, _, loss = model(*batch)\n",
    "    loss.backward()\n",
    "    optimiser.step()\n",
    "    \n",
    "    results[\"training\"][\"cross_entropy\"].append(float(loss))\n",
    "    \n",
    "    _, predictions, loss = model(*testing_inputs)\n",
    "    \n",
    "    results[\"testing\"][\"cross_entropy\"].append(float(loss))\n",
    "    \n",
    "    scores = f1_score(testing.stances, predictions.cpu(), average=None)\n",
    "    scores = (np.mean(scores[1:]), np.mean(scores[:]))\n",
    "    \n",
    "    score = np.mean(scores)\n",
    "    \n",
    "    if score > optimal_score:\n",
    "        optimal_score = score\n",
    "        optimal_model_state_dict = deepcopy(model.state_dict())\n",
    "        print(\"{}\\t{}\\t{}\\t{}\".format(step, *scores, score))\n",
    "\n",
    "    step += 1"
   ]
  },
  {
   "cell_type": "code",
   "execution_count": 180,
   "metadata": {},
   "outputs": [
    {
     "data": {
      "text/plain": [
       "<matplotlib.legend.Legend at 0x7f6231a640f0>"
      ]
     },
     "execution_count": 180,
     "metadata": {},
     "output_type": "execute_result"
    },
    {
     "data": {
      "image/png": "[encoded data removed]",
      "text/plain": [
       "<Figure size 1440x504 with 1 Axes>"
      ]
     },
     "metadata": {},
     "output_type": "display_data"
    }
   ],
   "source": [
    "plt.figure(figsize=(20, 7))\n",
    "plt.style.use(\"seaborn\")\n",
    "\n",
    "plt.plot(results[\"training\"][\"cross_entropy\"][::batches])\n",
    "plt.plot(results[\"testing\"][\"cross_entropy\"][::batches])\n",
    "plt.xlabel(\"Epoch\")\n",
    "plt.legend([\"Training\", \"Testing\"])"
   ]
  },
  {
   "cell_type": "code",
   "execution_count": null,
   "metadata": {},
   "outputs": [],
   "source": []
  },
  {
   "cell_type": "code",
   "execution_count": null,
   "metadata": {},
   "outputs": [],
   "source": []
  },
  {
   "cell_type": "code",
   "execution_count": null,
   "metadata": {},
   "outputs": [],
   "source": []
  },
  {
   "cell_type": "code",
   "execution_count": null,
   "metadata": {},
   "outputs": [],
   "source": []
  },
  {
   "cell_type": "code",
   "execution_count": null,
   "metadata": {},
   "outputs": [],
   "source": []
  },
  {
   "cell_type": "markdown",
   "metadata": {},
   "source": [
    "## Evaluation"
   ]
  },
  {
   "cell_type": "code",
   "execution_count": 240,
   "metadata": {},
   "outputs": [],
   "source": [
    "model = get_model(optimal_model_state_dict)"
   ]
  },
  {
   "cell_type": "code",
   "execution_count": 241,
   "metadata": {},
   "outputs": [],
   "source": [
    "_, predictions, _ = model(*testing_inputs)"
   ]
  },
  {
   "cell_type": "code",
   "execution_count": 242,
   "metadata": {},
   "outputs": [
    {
     "name": "stdout",
     "output_type": "stream",
     "text": [
      "              precision    recall  f1-score   support\n",
      "\n",
      "           0       0.68      0.60      0.64        50\n",
      "           1       0.76      0.70      0.73       105\n",
      "           2       0.66      0.77      0.71        83\n",
      "\n",
      "    accuracy                           0.71       238\n",
      "   macro avg       0.70      0.69      0.69       238\n",
      "weighted avg       0.71      0.71      0.71       238\n",
      "\n"
     ]
    }
   ],
   "source": [
    "print(classification_report(testing.stances, predictions.cpu()))"
   ]
  },
  {
   "cell_type": "code",
   "execution_count": 243,
   "metadata": {},
   "outputs": [
    {
     "data": {
      "text/plain": [
       "<matplotlib.axes._subplots.AxesSubplot at 0x7f6218972eb8>"
      ]
     },
     "execution_count": 243,
     "metadata": {},
     "output_type": "execute_result"
    },
    {
     "data": {
      "image/png": "[encoded data removed]",
      "text/plain": [
       "<Figure size 640x480 with 2 Axes>"
      ]
     },
     "metadata": {},
     "output_type": "display_data"
    }
   ],
   "source": [
    "plot_confusion_matrix(testing.stances, predictions.cpu())"
   ]
  }
 ],
 "metadata": {
  "kernelspec": {
   "display_name": "Python 3",
   "language": "python",
   "name": "python3"
  },
  "language_info": {
   "codemirror_mode": {
    "name": "ipython",
    "version": 3
   },
   "file_extension": ".py",
   "mimetype": "text/x-python",
   "name": "python",
   "nbconvert_exporter": "python",
   "pygments_lexer": "ipython3",
   "version": "3.6.5"
  }
 },
 "nbformat": 4,
 "nbformat_minor": 2
}
